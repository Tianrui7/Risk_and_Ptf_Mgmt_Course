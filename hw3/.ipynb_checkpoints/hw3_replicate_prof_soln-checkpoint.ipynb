{
 "cells": [
  {
   "cell_type": "markdown",
   "metadata": {},
   "source": [
    "## Here I try to reproduce the results from the professor, even if he has made some mistakes."
   ]
  },
  {
   "cell_type": "code",
   "execution_count": 2,
   "metadata": {},
   "outputs": [],
   "source": [
    "import math\n",
    "import numpy as np\n",
    "import numpy.linalg as la\n",
    "import pandas as pd\n",
    "import matplotlib.pyplot as plt\n",
    "\n",
    "data_file = pd.ExcelFile(\"NYU_Spring_2019_Assignment_3_data.xls\")\n",
    "#read first sheet\n",
    "bond_index = pd.read_excel(data_file, \"VBTLX\", skiprows=[0])\n",
    "columns = bond_index.columns.values\n",
    "columns[0] = \"Year\"\n",
    "#read second sheet\n",
    "int_growth = pd.read_excel(data_file, \"VWILX\", skiprows=[0])\n",
    "columns = int_growth.columns.values\n",
    "columns[0] = \"Year\"\n",
    "#read third sheet\n",
    "metal = pd.read_excel(data_file, \"VGPMX\", skiprows=[0])\n",
    "columns = metal.columns.values\n",
    "columns[0] = \"Year\"\n",
    "#read fourth sheet\n",
    "stock_index = pd.read_excel(data_file, \"VTSAX\", skiprows=[0])\n",
    "columns = stock_index.columns.values\n",
    "columns[0] = \"Year\"\n",
    "#read fifth sheet\n",
    "int_value = pd.read_excel(data_file, \"VTRIX\", skiprows=[0])\n",
    "columns = int_value.columns.values\n",
    "columns[0] = \"Year\"\n",
    "#read sixth sheet\n",
    "reit = pd.read_excel(data_file, \"VGSLX\", skiprows=[0])\n",
    "columns = reit.columns.values\n",
    "columns[0] = \"Year\"\n",
    "#read sixth sheet\n",
    "money_market = pd.read_excel(data_file, \"VMRXX\", skiprows=[0])\n",
    "columns = money_market.columns.values\n",
    "columns[0] = \"Year\""
   ]
  },
  {
   "cell_type": "markdown",
   "metadata": {},
   "source": [
    "## Some emails between me and professors\n",
    "\n",
    "### With Professor Brown\n",
    "Hi Professor Brown,\n",
    "\n",
    "Recall that in assignment 3, we were given quarterly returns of six assets and are asked to solve for the sharpe ratios. In that assignment, we need to calculate the covariance matrix from the return data. However, I tried various methods, including average the quarterly returns, or compounding, but none of them yield me the same results as your answers. I have come to the TA's office hours and we still cannot figure it out how you get the matrix. Since this matrix is critical, as otherwise we cannot know whether the later on calculations we did are correct or not, I was wondering could you please share the spreadsheet or code, when you compute the results with us, so that we can see how to do that?\n",
    "_____________________________\n",
    "\n",
    "What are the differences? I may have forgotten to divide my covariance matrix by the number of observations, are your numbers off by that factor?\n",
    "Did you start by subtracting off the risk-free rate from all price series, and then subtract the mean from each one? Once you do that, the covariance matrix is just the return matix transpose times the return matrix, then divided element by element by the number of observations.\n",
    "I can send you a spreadsheet with the calculation if that's not clear.\n",
    "\n",
    "_____________________________\n",
    "\n",
    "Hi Professor Brown,\n",
    "\n",
    "Thanks for your reply. No it is not off by a factor of the number of observations. Let me mention that \"subtracting off the risk-free rate from all price series\" is not required in the calculation of covariance, but should not affect the result, as Var(X) = Var(X+c). However, following your instructions, I still cannot get your results, and the difference is quite large. Could you please send me a spreadsheet showing how you have done the calculation? Say just the variance of stock index return (your answer is 0.0130), would be sufficient for me to grasp the process.\n",
    "\n",
    "_______________________________\n",
    "\n",
    "Subtracting off the risk-free return certainly is necessary if you want to get the covariance matrix of excess returns. The risk-free rate is not a constant, despite the name, it's the money market rate.\n",
    "\n",
    "\n",
    "\n",
    "### With Dr. Robert V. Kohn\n",
    "\n",
    "Hi Professor Kohn,\n",
    "\n",
    "My name is Zeshun and I took your math finance course three semesters ago. I was troubled by an optimization problem and I hope I can get some help. Recall that in class we discussed the CAPM model and how to find the market portfolio by maximizing the slope, i.e. \n",
    "$$\\max \\frac{w \\cdot  m - R_f}{\\sqrt{w^T C w}},$$\n",
    "where w is the weight vector, m the mean returns of n assets, C the var-cov matrix. In class we use method of lagrangian multiplier to maximize this, subject to weights sum up to 1. \n",
    "Now, I am trying to apply this to real data, and the method of lagrangian multiplier is inconvenient. Then, I was told that the above maximizing problem is equivalent to \n",
    "$$ \\min w^T Cw - k (w \\cdot m - R_f),$$ with k being a scale we can use to normalize the w vector. I am confused how these to problems are equivalent? It doesn't seem so as the second one is minimizing risk subject to some specified level of return.\n",
    "\n",
    "_______________________________\n",
    "\n",
    "Hi Zeshun,\n",
    "\n",
    "I agree with you that the two ideas are not equivalent if C is positive \n",
    "definite. In particular, minimizing risk for given mean return is\n",
    "equivalent to the second equation you wrote (with an undetermined k), by \n",
    "the method of Lagrange multipliers.\n",
    "\n",
    "But: we can treat the risk-free asset as being \"just\" another asset. This \n",
    "makes the covariance matrix (n+1)x(n+1) with a null-direction associated \n",
    "with the risk-free asset. We know that the optimal tradeoff of risk and \n",
    "return is associated with mixtures of the \"market portfolio\" and the \n",
    "risk-free asset, and the points achieved in the (risk,return) plane are on \n",
    "a half-line going through (0,R_f) and (\\sigma_M,\\mu_M). So if you minimize \n",
    "risk for fixed return (greater than R_f) in this setting, you're assured \n",
    "of picking up a point on this half-line."
   ]
  },
  {
   "cell_type": "markdown",
   "metadata": {},
   "source": [
    "# Question 1, Calculate excess return\n",
    "This is done by element wise substraction of risk-free rate."
   ]
  },
  {
   "cell_type": "code",
   "execution_count": 3,
   "metadata": {},
   "outputs": [],
   "source": [
    "bond_index_excess = bond_index[[\"Q1\", \"Q2\", \"Q3\", \"Q4\"]] - money_market[[\"Q1\", \"Q2\", \"Q3\",\"Q4\"]]\n",
    "int_growth_excess = int_growth[[\"Q1\", \"Q2\", \"Q3\", \"Q4\"]] - money_market[[\"Q1\", \"Q2\", \"Q3\",\"Q4\"]]\n",
    "metal_excess = metal[[\"Q1\", \"Q2\", \"Q3\", \"Q4\"]] - money_market[[\"Q1\", \"Q2\", \"Q3\",\"Q4\"]]\n",
    "stock_index_excess = stock_index[[\"Q1\", \"Q2\", \"Q3\", \"Q4\"]] - money_market[[\"Q1\", \"Q2\", \"Q3\",\"Q4\"]]\n",
    "int_value_excess = int_value[[\"Q1\", \"Q2\", \"Q3\", \"Q4\"]] - money_market[[\"Q1\", \"Q2\", \"Q3\",\"Q4\"]]\n",
    "reit_excess = reit[[\"Q1\", \"Q2\", \"Q3\", \"Q4\"]] - money_market[[\"Q1\", \"Q2\", \"Q3\",\"Q4\"]]"
   ]
  },
  {
   "cell_type": "code",
   "execution_count": 4,
   "metadata": {},
   "outputs": [
    {
     "name": "stdout",
     "output_type": "stream",
     "text": [
      "        Q1      Q2      Q3      Q4\n",
      "0  -0.0186 -0.0065 -0.0051  0.0102\n",
      "1   0.0070  0.0122  0.0044  0.0008\n",
      "2   0.0298  0.0223  0.0027 -0.0334\n",
      "3   0.0163 -0.0181  0.0115 -0.0065\n",
      "4   0.0190  0.0196  0.0016  0.0171\n",
      "5  -0.0008 -0.0243  0.0052 -0.0020\n",
      "6   0.0024  0.0213  0.0152  0.0010\n",
      "7   0.0022  0.0223  0.0398  0.0094\n",
      "8   0.0168  0.0357  0.0239 -0.0138\n",
      "9  -0.0001  0.0163  0.0361  0.0003\n",
      "10  0.0121 -0.0169 -0.0098  0.0372\n",
      "11  0.0017 -0.0194  0.0162  0.0185\n"
     ]
    }
   ],
   "source": [
    "# a demo\n",
    "print(bond_index_excess)"
   ]
  },
  {
   "cell_type": "code",
   "execution_count": 5,
   "metadata": {},
   "outputs": [
    {
     "data": {
      "text/plain": [
       "array(0.00027117)"
      ]
     },
     "execution_count": 5,
     "metadata": {},
     "output_type": "execute_result"
    }
   ],
   "source": [
    "# reshape to make a vector\n",
    "bond_excess_vec = np.array(bond_index_excess[[\"Q1\", \"Q2\", \"Q3\", \"Q4\"]]).reshape((-1,1))\n",
    "np.cov(bond_excess_vec.T, bias = True)"
   ]
  },
  {
   "cell_type": "code",
   "execution_count": 6,
   "metadata": {},
   "outputs": [],
   "source": [
    "# the professor forgets to divide the S.T @ S by the number of observations. If you multiply the above result by 48, you get "
   ]
  },
  {
   "cell_type": "code",
   "execution_count": 7,
   "metadata": {},
   "outputs": [
    {
     "data": {
      "text/plain": [
       "0.013016159999999999"
      ]
     },
     "execution_count": 7,
     "metadata": {},
     "output_type": "execute_result"
    }
   ],
   "source": [
    "0.00027117*48"
   ]
  },
  {
   "cell_type": "markdown",
   "metadata": {},
   "source": [
    "# Question 2, Calculate Var-Cov matrix\n",
    "\n",
    "### Remark 1: The professor uses the excess return data (i.e. return - risk_free) to calculate cov, don't know why\n",
    "### Remark 2: The professor does not change the data to yearly basis, but simply uses quarterly returns\n",
    "### Remark 3: The professor forgets to divide the value by the number of observations. So every number is 48 times larger than it should be. But this should not affect later problems as this is linear."
   ]
  },
  {
   "cell_type": "markdown",
   "metadata": {},
   "source": [
    "We use the brute-force way to calculate the var-cov matrix.\n",
    "\n",
    "Step 1: get excess-return data\n",
    "\n",
    "Step 2: reshape, column stack, to get a matrix\n",
    "\n",
    "Step 3: demean each column\n",
    "\n",
    "Step 4: $C = \\frac{1}{\\text{# of observations}} S S^T$"
   ]
  },
  {
   "cell_type": "code",
   "execution_count": 18,
   "metadata": {},
   "outputs": [
    {
     "name": "stdout",
     "output_type": "stream",
     "text": [
      "Variance of excess bond index return is  0.0002711709722222222\n",
      "This matches with the answer that the professor sent to me.\n"
     ]
    }
   ],
   "source": [
    "# a correct demo for calculating the variance of bond_index_excess return\n",
    "\n",
    "# step 1 and 2, get excess-return data, change it to a column\n",
    "bond_excess_vec = np.array(bond_index_excess[[\"Q1\", \"Q2\", \"Q3\", \"Q4\"]]).reshape((-1,1))\n",
    "\n",
    "# step 3, demean the data\n",
    "bond_excess_vec = bond_excess_vec - np.mean(bond_excess_vec)\n",
    "\n",
    "# step 4\n",
    "var_bond = bond_excess_vec.T @ bond_excess_vec / len(bond_excess_vec)\n",
    "print(\"Variance of excess bond index return is \", var_bond[0,0])\n",
    "print(\"This matches with the answer that the professor sent to me.\")"
   ]
  },
  {
   "cell_type": "markdown",
   "metadata": {},
   "source": [
    "## In order to confirm further computations here we assume that the professor's matrix is correct. That is to say, we do not divide by the number of observations here."
   ]
  },
  {
   "cell_type": "markdown",
   "metadata": {},
   "source": [
    "### Below we replicate the professor's \"wrong\" matrix"
   ]
  },
  {
   "cell_type": "code",
   "execution_count": 34,
   "metadata": {},
   "outputs": [
    {
     "name": "stdout",
     "output_type": "stream",
     "text": [
      "Close to zero? [ True  True  True  True  True  True]\n",
      "______________________________________________________\n",
      "this should be the correct var-cov matrix:\n",
      "          0         1         2         3         4         5\n",
      "0  0.000271 -0.000165  0.000422 -0.000305 -0.000175  0.000237\n",
      "1 -0.000165  0.010713  0.010735  0.007441  0.009745  0.007536\n",
      "2  0.000422  0.010735  0.024614  0.006975  0.009980  0.008250\n",
      "3 -0.000305  0.007441  0.006975  0.006736  0.007029  0.007345\n",
      "4 -0.000175  0.009745  0.009980  0.007029  0.009283  0.007224\n",
      "5  0.000237  0.007536  0.008250  0.007345  0.007224  0.014327\n",
      "\n",
      "Compare with the cov matrix calculated from numpy's built in function:\n",
      "          0         1         2         3         4         5\n",
      "0  0.000271 -0.000165  0.000422 -0.000305 -0.000175  0.000237\n",
      "1 -0.000165  0.010713  0.010735  0.007441  0.009745  0.007536\n",
      "2  0.000422  0.010735  0.024614  0.006975  0.009980  0.008250\n",
      "3 -0.000305  0.007441  0.006975  0.006736  0.007029  0.007345\n",
      "4 -0.000175  0.009745  0.009980  0.007029  0.009283  0.007224\n",
      "5  0.000237  0.007536  0.008250  0.007345  0.007224  0.014327\n",
      "\n",
      "\n",
      "However, the professor forgot to divide each entry by the number of observations.\n",
      "Professor's answer:\n",
      "          0         1         2         3         4         5\n",
      "0  0.013016 -0.007920  0.020263 -0.014620 -0.008399  0.011382\n",
      "1 -0.007920  0.514206  0.515293  0.357170  0.467766  0.361730\n",
      "2  0.020263  0.515293  1.181478  0.334782  0.479035  0.396013\n",
      "3 -0.014620  0.357170  0.334782  0.323315  0.337388  0.352561\n",
      "4 -0.008399  0.467766  0.479035  0.337388  0.445565  0.346738\n",
      "5  0.011382  0.361730  0.396013  0.352561  0.346738  0.687719\n"
     ]
    }
   ],
   "source": [
    "# reshape to a vector\n",
    "bond_excess_vec = np.array(bond_index_excess[[\"Q1\", \"Q2\", \"Q3\", \"Q4\"]]).reshape((-1,1))\n",
    "int_growth_excess_vec = np.array(int_growth_excess[[\"Q1\",\"Q2\",\"Q3\",\"Q4\"]]).reshape((-1,1))\n",
    "metal_excess_vec = np.array(metal_excess[[\"Q1\",\"Q2\",\"Q3\",\"Q4\"]]).reshape((-1,1))\n",
    "stock_excess_vec = np.array(stock_index_excess[[\"Q1\",\"Q2\",\"Q3\",\"Q4\"]]).reshape((-1,1))\n",
    "int_value_excess_vec = np.array(int_value_excess[[\"Q1\",\"Q2\",\"Q3\",\"Q4\"]]).reshape((-1,1))\n",
    "reit_excess_vec = np.array(reit_excess[[\"Q1\",\"Q2\",\"Q3\",\"Q4\"]]).reshape((-1,1))\n",
    "\n",
    "# demean each vector\n",
    "bond_excess_vec = bond_excess_vec - np.mean(bond_excess_vec)\n",
    "int_growth_excess_vec = int_growth_excess_vec - np.mean(int_growth_excess_vec)\n",
    "metal_excess_vec = metal_excess_vec - np.mean(metal_excess_vec)\n",
    "stock_excess_vec = stock_excess_vec - np.mean(stock_excess_vec)\n",
    "int_value_excess_vec = int_value_excess_vec - np.mean(int_value_excess_vec)\n",
    "reit_excess_vec = reit_excess_vec - np.mean(reit_excess_vec)\n",
    "\n",
    "return_mat = np.hstack([bond_excess_vec, int_growth_excess_vec, metal_excess_vec, stock_excess_vec, \\\n",
    "                        int_value_excess_vec, reit_excess_vec])\n",
    "\n",
    "# check if indeed has mean zero\n",
    "print(\"Close to zero?\", np.isclose(np.sum(return_mat, axis = 0), np.zeros(6)))\n",
    "\n",
    "print(\"______________________________________________________\")\n",
    "print(\"this should be the correct var-cov matrix:\")\n",
    "print(pd.DataFrame(return_mat.T @ return_mat/ len(bond_excess_vec)))\n",
    "print()\n",
    "print(\"Compare with the cov matrix calculated from numpy's built in function:\")\n",
    "true_cov_mat = np.cov(return_mat.T, bias= True)\n",
    "print(pd.DataFrame(true_cov_mat))\n",
    "\n",
    "print()\n",
    "print()\n",
    "print(\"However, the professor forgot to divide each entry by the number of observations.\")\n",
    "print(\"Professor's answer:\")\n",
    "prof_cov_mat = return_mat.T @ return_mat\n",
    "print(pd.DataFrame(prof_cov_mat))"
   ]
  },
  {
   "cell_type": "code",
   "execution_count": null,
   "metadata": {},
   "outputs": [],
   "source": []
  }
 ],
 "metadata": {
  "kernelspec": {
   "display_name": "Python 3",
   "language": "python",
   "name": "python3"
  },
  "language_info": {
   "codemirror_mode": {
    "name": "ipython",
    "version": 3
   },
   "file_extension": ".py",
   "mimetype": "text/x-python",
   "name": "python",
   "nbconvert_exporter": "python",
   "pygments_lexer": "ipython3",
   "version": "3.6.4"
  }
 },
 "nbformat": 4,
 "nbformat_minor": 2
}
