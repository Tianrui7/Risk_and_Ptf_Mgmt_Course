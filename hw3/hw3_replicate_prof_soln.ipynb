{
 "cells": [
  {
   "cell_type": "markdown",
   "metadata": {},
   "source": [
    "## Here I try to reproduce the results from the professor, even if he has made some mistakes."
   ]
  },
  {
   "cell_type": "code",
   "execution_count": 1,
   "metadata": {},
   "outputs": [],
   "source": [
    "import math\n",
    "import numpy as np\n",
    "import numpy.linalg as la\n",
    "import pandas as pd\n",
    "import matplotlib.pyplot as plt\n",
    "\n",
    "data_file = pd.ExcelFile(\"NYU_Spring_2019_Assignment_3_data.xls\")\n",
    "#read first sheet\n",
    "bond_index = pd.read_excel(data_file, \"VBTLX\", skiprows=[0])\n",
    "columns = bond_index.columns.values\n",
    "columns[0] = \"Year\"\n",
    "#read second sheet\n",
    "int_growth = pd.read_excel(data_file, \"VWILX\", skiprows=[0])\n",
    "columns = int_growth.columns.values\n",
    "columns[0] = \"Year\"\n",
    "#read third sheet\n",
    "metal = pd.read_excel(data_file, \"VGPMX\", skiprows=[0])\n",
    "columns = metal.columns.values\n",
    "columns[0] = \"Year\"\n",
    "#read fourth sheet\n",
    "stock_index = pd.read_excel(data_file, \"VTSAX\", skiprows=[0])\n",
    "columns = stock_index.columns.values\n",
    "columns[0] = \"Year\"\n",
    "#read fifth sheet\n",
    "int_value = pd.read_excel(data_file, \"VTRIX\", skiprows=[0])\n",
    "columns = int_value.columns.values\n",
    "columns[0] = \"Year\"\n",
    "#read sixth sheet\n",
    "reit = pd.read_excel(data_file, \"VGSLX\", skiprows=[0])\n",
    "columns = reit.columns.values\n",
    "columns[0] = \"Year\"\n",
    "#read sixth sheet\n",
    "money_market = pd.read_excel(data_file, \"VMRXX\", skiprows=[0])\n",
    "columns = money_market.columns.values\n",
    "columns[0] = \"Year\""
   ]
  },
  {
   "cell_type": "markdown",
   "metadata": {},
   "source": [
    "# Question 1, Calculate excess return\n",
    "This is done by element wise substraction of risk-free rate."
   ]
  },
  {
   "cell_type": "code",
   "execution_count": 2,
   "metadata": {},
   "outputs": [],
   "source": [
    "bond_index_excess = bond_index[[\"Q1\", \"Q2\", \"Q3\", \"Q4\"]] - money_market[[\"Q1\", \"Q2\", \"Q3\",\"Q4\"]]\n",
    "int_growth_excess = int_growth[[\"Q1\", \"Q2\", \"Q3\", \"Q4\"]] - money_market[[\"Q1\", \"Q2\", \"Q3\",\"Q4\"]]\n",
    "metal_excess = metal[[\"Q1\", \"Q2\", \"Q3\", \"Q4\"]] - money_market[[\"Q1\", \"Q2\", \"Q3\",\"Q4\"]]\n",
    "stock_index_excess = stock_index[[\"Q1\", \"Q2\", \"Q3\", \"Q4\"]] - money_market[[\"Q1\", \"Q2\", \"Q3\",\"Q4\"]]\n",
    "int_value_excess = int_value[[\"Q1\", \"Q2\", \"Q3\", \"Q4\"]] - money_market[[\"Q1\", \"Q2\", \"Q3\",\"Q4\"]]\n",
    "reit_excess = reit[[\"Q1\", \"Q2\", \"Q3\", \"Q4\"]] - money_market[[\"Q1\", \"Q2\", \"Q3\",\"Q4\"]]"
   ]
  },
  {
   "cell_type": "code",
   "execution_count": 8,
   "metadata": {},
   "outputs": [
    {
     "name": "stdout",
     "output_type": "stream",
     "text": [
      "        Q1      Q2      Q3      Q4\n",
      "0  -0.0186 -0.0065 -0.0051  0.0102\n",
      "1   0.0070  0.0122  0.0044  0.0008\n",
      "2   0.0298  0.0223  0.0027 -0.0334\n",
      "3   0.0163 -0.0181  0.0115 -0.0065\n",
      "4   0.0190  0.0196  0.0016  0.0171\n",
      "5  -0.0008 -0.0243  0.0052 -0.0020\n",
      "6   0.0024  0.0213  0.0152  0.0010\n",
      "7   0.0022  0.0223  0.0398  0.0094\n",
      "8   0.0168  0.0357  0.0239 -0.0138\n",
      "9  -0.0001  0.0163  0.0361  0.0003\n",
      "10  0.0121 -0.0169 -0.0098  0.0372\n",
      "11  0.0017 -0.0194  0.0162  0.0185\n"
     ]
    }
   ],
   "source": [
    "# a demo\n",
    "print(bond_index_excess)"
   ]
  },
  {
   "cell_type": "code",
   "execution_count": 11,
   "metadata": {},
   "outputs": [
    {
     "data": {
      "text/plain": [
       "array(0.00027117)"
      ]
     },
     "execution_count": 11,
     "metadata": {},
     "output_type": "execute_result"
    }
   ],
   "source": [
    "# reshape to make a vector\n",
    "bond_excess_vec = np.array(bond_index_excess[[\"Q1\", \"Q2\", \"Q3\", \"Q4\"]]).reshape((-1,1))\n",
    "np.cov(bond_excess_vec.T, bias = True)"
   ]
  },
  {
   "cell_type": "code",
   "execution_count": 12,
   "metadata": {},
   "outputs": [],
   "source": [
    "# the professor forgets to divide the S.T @ S by the number of observations. If you multiply the above result by 48, you get "
   ]
  },
  {
   "cell_type": "code",
   "execution_count": 13,
   "metadata": {},
   "outputs": [
    {
     "data": {
      "text/plain": [
       "0.013016159999999999"
      ]
     },
     "execution_count": 13,
     "metadata": {},
     "output_type": "execute_result"
    }
   ],
   "source": [
    "0.00027117*48"
   ]
  },
  {
   "cell_type": "code",
   "execution_count": null,
   "metadata": {},
   "outputs": [],
   "source": []
  }
 ],
 "metadata": {
  "kernelspec": {
   "display_name": "Python 3",
   "language": "python",
   "name": "python3"
  },
  "language_info": {
   "codemirror_mode": {
    "name": "ipython",
    "version": 3
   },
   "file_extension": ".py",
   "mimetype": "text/x-python",
   "name": "python",
   "nbconvert_exporter": "python",
   "pygments_lexer": "ipython3",
   "version": "3.6.4"
  }
 },
 "nbformat": 4,
 "nbformat_minor": 2
}
