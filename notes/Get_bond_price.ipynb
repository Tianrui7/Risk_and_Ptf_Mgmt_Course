{
 "cells": [
  {
   "cell_type": "markdown",
   "metadata": {},
   "source": [
    "# Calculate bond price"
   ]
  },
  {
   "cell_type": "markdown",
   "metadata": {},
   "source": [
    "We start with the calculation of clean price.\n",
    "Suppose a bond has maturity of $N$ years, annual coupon rate $c%$, annual yield $r%$, and compounded $k$ times per year. Face value is one dollar.\n",
    "\n",
    "$$\\textbf{price} = \\sum_{i=1}^{kN} \\frac{c}{k}(\\frac{1}{1+r/k})^i + \\frac{1}{(1+r/k)^{kN}} = \\frac{c}{r} + (1-\\frac{c}{r})(1+\\frac{r}{k})^{-kN}$$"
   ]
  },
  {
   "cell_type": "code",
   "execution_count": 1,
   "metadata": {},
   "outputs": [],
   "source": [
    "def get_bond_price(N, c, r, k):\n",
    "    return c/r + (1-c/r)*(1+r/k)**(-k*N)"
   ]
  },
  {
   "cell_type": "code",
   "execution_count": null,
   "metadata": {},
   "outputs": [],
   "source": []
  }
 ],
 "metadata": {
  "kernelspec": {
   "display_name": "Python 3",
   "language": "python",
   "name": "python3"
  },
  "language_info": {
   "codemirror_mode": {
    "name": "ipython",
    "version": 3
   },
   "file_extension": ".py",
   "mimetype": "text/x-python",
   "name": "python",
   "nbconvert_exporter": "python",
   "pygments_lexer": "ipython3",
   "version": "3.6.4"
  }
 },
 "nbformat": 4,
 "nbformat_minor": 2
}
