{
 "cells": [
  {
   "cell_type": "code",
   "execution_count": 28,
   "metadata": {},
   "outputs": [],
   "source": [
    "import math\n",
    "import numpy as np\n",
    "from numpy import linalg as la\n",
    "import pandas as pd"
   ]
  },
  {
   "cell_type": "markdown",
   "metadata": {},
   "source": [
    "# Boostrap Zero Curve\n",
    "\n",
    "The idea is that, using a sequence of coupon bonds to solve for zero yield.\n",
    "\n",
    "Assuming principle is $100, coupons are paid semi-annually.\n",
    "\n",
    "Suppose we have $n$ bonds, each matures half a year later then the previous one.\n",
    "\n",
    "     bond1 pays coupon+principle at period 1.\n",
    "\n",
    "     bond2 pays coupon at period 1, coupon+principle at period 2.\n",
    "     \n",
    "     bond3 pays coupon at period 1, coupon at period 2, coupon+principle at period 3.\n",
    "     etc.."
   ]
  },
  {
   "cell_type": "code",
   "execution_count": 19,
   "metadata": {},
   "outputs": [
    {
     "name": "stdout",
     "output_type": "stream",
     "text": [
      "    maturity  coupon_rate  dirty_price  yield\n",
      "0 2019-03-31         1.50       100.44   2.48\n",
      "1 2019-09-30         1.00        99.44   2.52\n",
      "2 2020-03-31         2.25       100.67   2.41\n",
      "3 2020-09-30         2.00        99.93   2.52\n"
     ]
    },
    {
     "data": {
      "text/plain": [
       "1.5"
      ]
     },
     "execution_count": 19,
     "metadata": {},
     "output_type": "execute_result"
    }
   ],
   "source": [
    "# a total of n bonds and n periods\n",
    "bond1 = [\"03/31/19\", 1.5, 100.44, 2.48]\n",
    "bond2 = [\"09/30/19\", 1.0, 99.44, 2.52]\n",
    "bond3 = [\"03/31/20\", 2.25, 100.67, 2.41]\n",
    "bond4 = [\"09/30/20\", 2, 99.93, 2.52]\n",
    "\n",
    "\n",
    "bond_data = pd.DataFrame([bond1, bond2, bond3, bond4])\n",
    "bond_data.columns=[\"maturity\", \"coupon_rate\", \"dirty_price\", \"yield\"]\n",
    "bond_data[\"maturity\"] = pd.to_datetime(bond_data[\"maturity\"])\n",
    "print(bond_data)\n",
    "bond_data[\"coupon_rate\"][0]"
   ]
  },
  {
   "cell_type": "code",
   "execution_count": 33,
   "metadata": {},
   "outputs": [
    {
     "data": {
      "text/plain": [
       "array([0.99692308, 0.98449292, 0.97345767, 0.96014977])"
      ]
     },
     "execution_count": 33,
     "metadata": {},
     "output_type": "execute_result"
    }
   ],
   "source": [
    "# Construct a matrix to represent the incoming payments\n",
    "\n",
    "def get_matrix(bond_df):\n",
    "    # this is a n*n matrix\n",
    "    n = len(bond_df)\n",
    "    mat = np.zeros((n,n))\n",
    "    # the ith column represents the incoming payments from the ith bond\n",
    "    for i in range(n):\n",
    "        for j in range(i+1):\n",
    "            # the payment from the ith bond at jth period\n",
    "            mat[j][i] += bond_df[\"coupon_rate\"][i]/2 # since semi-annully, % * 100\n",
    "            if j==i:\n",
    "                # assuming the ith bond matures at the ith period\n",
    "                mat[j][i] += 100 # assuming priciple = 100\n",
    "    return mat   \n",
    "\n",
    "\n",
    "\n",
    "def get_zero_rate(bond_df):\n",
    "    mat = get_matrix(bond_df)\n",
    "    vec_p = np.array(bond_df[\"dirty_price\"])\n",
    "    # we want to find a vector [q1, q2, ..., qn] such that qi is the present value of $1 at period i.\n",
    "    # we have \n",
    "    # q@A = p, where both q and p are row vectors, and p is the dirty price\n",
    "    \n",
    "    # q = p@A.inverse\n",
    "    \n",
    "    return vec_p @ la.inv(mat)\n",
    "    \n",
    "    \n",
    "    \n",
    "\n",
    "\n",
    "get_zero_rate(bond_data)\n"
   ]
  },
  {
   "cell_type": "code",
   "execution_count": null,
   "metadata": {},
   "outputs": [],
   "source": []
  },
  {
   "cell_type": "code",
   "execution_count": null,
   "metadata": {},
   "outputs": [],
   "source": []
  },
  {
   "cell_type": "code",
   "execution_count": null,
   "metadata": {},
   "outputs": [],
   "source": []
  }
 ],
 "metadata": {
  "kernelspec": {
   "display_name": "Python 3",
   "language": "python",
   "name": "python3"
  },
  "language_info": {
   "codemirror_mode": {
    "name": "ipython",
    "version": 3
   },
   "file_extension": ".py",
   "mimetype": "text/x-python",
   "name": "python",
   "nbconvert_exporter": "python",
   "pygments_lexer": "ipython3",
   "version": "3.6.4"
  }
 },
 "nbformat": 4,
 "nbformat_minor": 2
}
