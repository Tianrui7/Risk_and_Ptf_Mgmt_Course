{
 "cells": [
  {
   "cell_type": "code",
   "execution_count": 1,
   "metadata": {},
   "outputs": [],
   "source": [
    "import math\n",
    "import numpy as np"
   ]
  },
  {
   "cell_type": "markdown",
   "metadata": {},
   "source": [
    "# Calculate Macaulay Duration\n",
    "\n",
    "The formula is given by \n",
    "$$\\frac{\\sum_{k=1}^N k\\cdot c_k (1+r)^{-k}}{\\sum_{i=1}^{N} c_i (1+r)^{-i}}.$$"
   ]
  },
  {
   "cell_type": "code",
   "execution_count": 9,
   "metadata": {},
   "outputs": [
    {
     "name": "stdout",
     "output_type": "stream",
     "text": [
      "The Macaulay Duration is  7.801692274499579\n"
     ]
    }
   ],
   "source": [
    "# example: 10 years, annual-pay 6% coupon rate, yield at 6%\n",
    "N = 10\n",
    "r = 0.06\n",
    "c_rate = 0.06\n",
    "c_k = np.ones(9)*c_rate\n",
    "c_k = np.append(c_k, 1.06)\n",
    "\n",
    "numer = 0\n",
    "denom = 0\n",
    "\n",
    "for i in range(1, N+1):\n",
    "    numer += i * c_k[i-1] * (1+r)**(-i)\n",
    "    denom += c_k[i-1] * (1+r)**(-i)\n",
    "\n",
    "MacD = numer/denom\n",
    "print(\"The Macaulay Duration is \", MacD)"
   ]
  },
  {
   "cell_type": "code",
   "execution_count": 8,
   "metadata": {},
   "outputs": [
    {
     "data": {
      "text/plain": [
       "7.801692274499579"
      ]
     },
     "execution_count": 8,
     "metadata": {},
     "output_type": "execute_result"
    }
   ],
   "source": [
    "# function to calculate MacD for a bond\n",
    "def get_MacD(N, r, c_k):\n",
    "    # N is the number of years\n",
    "    # r is yield\n",
    "    # c_k is an array with N elements, payment at each year\n",
    "    \n",
    "    numer = 0\n",
    "    denom = 0\n",
    "\n",
    "    for i in range(1, N+1):\n",
    "        numer += i * c_k[i-1] * (1+r)**(-i)\n",
    "        denom += c_k[i-1] * (1+r)**(-i)\n",
    "    return numer/denom\n",
    "\n",
    "get_MacD(10, 0.06, c_k)"
   ]
  },
  {
   "cell_type": "markdown",
   "metadata": {},
   "source": [
    "# Calculate Modified Duration\n",
    "\n",
    "$$\\textbf{ModD} = \\frac{\\textbf{MacD}}{1+r}$$"
   ]
  },
  {
   "cell_type": "code",
   "execution_count": 11,
   "metadata": {},
   "outputs": [
    {
     "data": {
      "text/plain": [
       "7.3600870514146965"
      ]
     },
     "execution_count": 11,
     "metadata": {},
     "output_type": "execute_result"
    }
   ],
   "source": [
    "ModD = MacD/(1+r)\n",
    "ModD"
   ]
  },
  {
   "cell_type": "code",
   "execution_count": null,
   "metadata": {},
   "outputs": [],
   "source": []
  }
 ],
 "metadata": {
  "kernelspec": {
   "display_name": "Python 3",
   "language": "python",
   "name": "python3"
  },
  "language_info": {
   "codemirror_mode": {
    "name": "ipython",
    "version": 3
   },
   "file_extension": ".py",
   "mimetype": "text/x-python",
   "name": "python",
   "nbconvert_exporter": "python",
   "pygments_lexer": "ipython3",
   "version": "3.6.4"
  }
 },
 "nbformat": 4,
 "nbformat_minor": 2
}
