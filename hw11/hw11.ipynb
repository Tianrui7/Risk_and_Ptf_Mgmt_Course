{
 "cells": [
  {
   "cell_type": "markdown",
   "metadata": {},
   "source": [
    "## 1, Do you agree or disagree with the following quotes. Explain briefly:"
   ]
  },
  {
   "cell_type": "markdown",
   "metadata": {},
   "source": [
    "a) The VaR on the LTCM portfolio was in fact similar to the VaR on the US equity market, yet LTCM collapsed and the US equity market did not (the S&P 500 was up 28% for the year in 1998). Clearly, VaR has material flaws.\n",
    "\n",
    "#### No I do not agree. The VaR, by definition, is only a statistical measure of volatility. Mathematically speaking, it is proposed to give a uniform measure of volatility across different platforms and assets. Hence, we cannot say that VaR itself has critical flaws. It is the people who are using this method that need to remember in mind that the simple number cannot be used to represent risk, and in fact, risk is influenced by many factors other than volatility. Hence, it is true that the LTCM portfolio had the same VaR as the US equity market, but they indeed had different levels of risk."
   ]
  },
  {
   "cell_type": "markdown",
   "metadata": {},
   "source": [
    "b) The reliance on a select period of historical data or specially chosen volatility inputs necessarily means de-emphasizing actual risk events that are ongoing and developing at various issuers.\n",
    "\n",
    "#### Yes I agree. Certain events happen at certain periods. If it turns out that our sample data does not contain this piece of information, then this information must not appear in the corresponding model. Hence unexpeted things always happen and this is unavoidable."
   ]
  },
  {
   "cell_type": "markdown",
   "metadata": {},
   "source": [
    "c) “To make money they didn’t have and didn’t need, they risked what they did have and did need. And that’s foolish.” (Warren Buffett)\n",
    "\n",
    "#### Certainly true. The most important takeaway from this article. The top traders did not need to leverage so much that there was no room for a mistake. Moreover, being super-confident about their strategy, they even bet all their personal assets on their strategy. Being voracious is one reason for their failure."
   ]
  },
  {
   "cell_type": "markdown",
   "metadata": {},
   "source": [
    "## 2, LTCM's portfolio is broken down into instruments below. For each instrument, find the hedge fund strategy or strategies above (in the Barclay Hedge list) that LTCM was likely pursuing. Not all instruments may match neatly into the Barclay Hedge list, just make your best guess or guesses."
   ]
  },
  {
   "cell_type": "markdown",
   "metadata": {},
   "source": [
    "$1.6 billion in swaps\n",
    "\n",
    "    Fixed-Income Arbitrage\n",
    "\n",
    "$1.3 billion in equity and volatility\n",
    "\n",
    "    Event-Driven Investing\n",
    "\n",
    "$430 million in Russia and other emerging markets\n",
    "\n",
    "    Emerging Markets, Relative-Value Arbitrage\n",
    "\n",
    "$371 million in directional trades in developed countries\n",
    "\n",
    "    Equity Long-Short\n",
    "    \n",
    "$286 million in equity pairs\n",
    "\n",
    "    Relative-Value Arbitrage\n",
    "\n",
    "$215 million in yield curve arbitrage\n",
    "\n",
    "    Fixed-Income Arbitrage\n",
    "\n",
    "$203 million in S&P 500 stocks\n",
    "\n",
    "    Fund of Hedge Funds\n",
    "\n",
    "$100 million in junk bonds\n",
    "\n",
    "    Investing in Distressed Securities"
   ]
  },
  {
   "cell_type": "markdown",
   "metadata": {},
   "source": [
    "They expected that the volatility of equity prices would decrease, which would imply that the price of options would go down. So they shorted options.\n",
    "\n",
    "They expected that the spread between LIBOR and government securites would narrow, so they shorted interest rate swaps.\n",
    "\n",
    "They expected the yield of 29-year USTs and that of 30-year USTs would converge, so they longed the (high-yield) 29-year USTs and shorted the (low-yield) 30-year USTs.\n",
    "\n",
    "They expected global economics to improve and risk levels to decrease, i.e. the two yields would converge. So they longed non-US sovereign bonds and shorted USTs.\n",
    "\n",
    "They expected convergence of common and preferred stock prices in equity pairs, so they short the overpriced stck and long the underpriced."
   ]
  },
  {
   "cell_type": "code",
   "execution_count": null,
   "metadata": {},
   "outputs": [],
   "source": []
  }
 ],
 "metadata": {
  "kernelspec": {
   "display_name": "Python 3",
   "language": "python",
   "name": "python3"
  },
  "language_info": {
   "codemirror_mode": {
    "name": "ipython",
    "version": 3
   },
   "file_extension": ".py",
   "mimetype": "text/x-python",
   "name": "python",
   "nbconvert_exporter": "python",
   "pygments_lexer": "ipython3",
   "version": "3.6.4"
  }
 },
 "nbformat": 4,
 "nbformat_minor": 2
}
